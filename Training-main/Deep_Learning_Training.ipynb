{
  "nbformat": 4,
  "nbformat_minor": 0,
  "metadata": {
    "colab": {
      "provenance": []
    },
    "kernelspec": {
      "name": "python3",
      "display_name": "Python 3"
    },
    "language_info": {
      "name": "python"
    }
  },
  "cells": [
    {
      "cell_type": "code",
      "execution_count": null,
      "metadata": {
        "id": "LM_R8mPHAu4_"
      },
      "outputs": [],
      "source": [
        "import tensorflow as tf\n",
        "from tensorflow import keras\n",
        "import numpy as np\n",
        "import pandas as pd\n",
        "import matplotlib.pyplot as plt\n",
        "import seaborn as sns"
      ]
    },
    {
      "cell_type": "code",
      "source": [
        "tf.__version__"
      ],
      "metadata": {
        "colab": {
          "base_uri": "https://localhost:8080/",
          "height": 35
        },
        "id": "wJy6RLx3A1ET",
        "outputId": "7f8b2b82-0303-4edf-b9e3-f640e7997f40"
      },
      "execution_count": null,
      "outputs": [
        {
          "output_type": "execute_result",
          "data": {
            "text/plain": [
              "'2.15.0'"
            ],
            "application/vnd.google.colaboratory.intrinsic+json": {
              "type": "string"
            }
          },
          "metadata": {},
          "execution_count": 2
        }
      ]
    },
    {
      "cell_type": "code",
      "source": [
        "(X_train,y_train),(X_test,y_test)=keras.datasets.mnist.load_data()"
      ],
      "metadata": {
        "id": "1aN_1avkA1A7",
        "colab": {
          "base_uri": "https://localhost:8080/"
        },
        "outputId": "e6fab9f2-ded5-4cf1-801e-737067d95b10"
      },
      "execution_count": null,
      "outputs": [
        {
          "output_type": "stream",
          "name": "stdout",
          "text": [
            "Downloading data from https://storage.googleapis.com/tensorflow/tf-keras-datasets/mnist.npz\n",
            "11490434/11490434 [==============================] - 0s 0us/step\n"
          ]
        }
      ]
    },
    {
      "cell_type": "code",
      "source": [
        "X_train"
      ],
      "metadata": {
        "colab": {
          "base_uri": "https://localhost:8080/"
        },
        "id": "VHizB_G6A0-M",
        "outputId": "6e65303f-e759-4db1-a6ef-f34bfe71b014"
      },
      "execution_count": null,
      "outputs": [
        {
          "output_type": "execute_result",
          "data": {
            "text/plain": [
              "array([[[0, 0, 0, ..., 0, 0, 0],\n",
              "        [0, 0, 0, ..., 0, 0, 0],\n",
              "        [0, 0, 0, ..., 0, 0, 0],\n",
              "        ...,\n",
              "        [0, 0, 0, ..., 0, 0, 0],\n",
              "        [0, 0, 0, ..., 0, 0, 0],\n",
              "        [0, 0, 0, ..., 0, 0, 0]],\n",
              "\n",
              "       [[0, 0, 0, ..., 0, 0, 0],\n",
              "        [0, 0, 0, ..., 0, 0, 0],\n",
              "        [0, 0, 0, ..., 0, 0, 0],\n",
              "        ...,\n",
              "        [0, 0, 0, ..., 0, 0, 0],\n",
              "        [0, 0, 0, ..., 0, 0, 0],\n",
              "        [0, 0, 0, ..., 0, 0, 0]],\n",
              "\n",
              "       [[0, 0, 0, ..., 0, 0, 0],\n",
              "        [0, 0, 0, ..., 0, 0, 0],\n",
              "        [0, 0, 0, ..., 0, 0, 0],\n",
              "        ...,\n",
              "        [0, 0, 0, ..., 0, 0, 0],\n",
              "        [0, 0, 0, ..., 0, 0, 0],\n",
              "        [0, 0, 0, ..., 0, 0, 0]],\n",
              "\n",
              "       ...,\n",
              "\n",
              "       [[0, 0, 0, ..., 0, 0, 0],\n",
              "        [0, 0, 0, ..., 0, 0, 0],\n",
              "        [0, 0, 0, ..., 0, 0, 0],\n",
              "        ...,\n",
              "        [0, 0, 0, ..., 0, 0, 0],\n",
              "        [0, 0, 0, ..., 0, 0, 0],\n",
              "        [0, 0, 0, ..., 0, 0, 0]],\n",
              "\n",
              "       [[0, 0, 0, ..., 0, 0, 0],\n",
              "        [0, 0, 0, ..., 0, 0, 0],\n",
              "        [0, 0, 0, ..., 0, 0, 0],\n",
              "        ...,\n",
              "        [0, 0, 0, ..., 0, 0, 0],\n",
              "        [0, 0, 0, ..., 0, 0, 0],\n",
              "        [0, 0, 0, ..., 0, 0, 0]],\n",
              "\n",
              "       [[0, 0, 0, ..., 0, 0, 0],\n",
              "        [0, 0, 0, ..., 0, 0, 0],\n",
              "        [0, 0, 0, ..., 0, 0, 0],\n",
              "        ...,\n",
              "        [0, 0, 0, ..., 0, 0, 0],\n",
              "        [0, 0, 0, ..., 0, 0, 0],\n",
              "        [0, 0, 0, ..., 0, 0, 0]]], dtype=uint8)"
            ]
          },
          "metadata": {},
          "execution_count": 4
        }
      ]
    },
    {
      "cell_type": "code",
      "source": [
        "# X_train_flat=X_train.reshape(len(X_train),28*28)"
      ],
      "metadata": {
        "id": "k5QFemN_QjSB"
      },
      "execution_count": null,
      "outputs": []
    },
    {
      "cell_type": "code",
      "source": [
        "model= keras.Sequential([\n",
        "    keras.layers.Flatten(),\n",
        "    keras.layers.Dense(100, input_shape=(28*28,), activation=\"sigmoid\"),\n",
        "    keras.layers.Dense(100, activation=\"sigmoid\"),\n",
        "    keras.layers.Dense(10, activation=\"sigmoid\")])\n",
        "model.compile(optimizer=\"adam\",loss=\"sparse_categorical_crossentropy\",metrics=[\"accuracy\"])\n",
        "model.fit(X_train,y_train,epochs=5)"
      ],
      "metadata": {
        "colab": {
          "base_uri": "https://localhost:8080/"
        },
        "id": "B6WtfzCBA08I",
        "outputId": "4629ba22-0f2f-48dc-9b23-9ea592407d50"
      },
      "execution_count": null,
      "outputs": [
        {
          "output_type": "stream",
          "name": "stdout",
          "text": [
            "Epoch 1/5\n",
            "1875/1875 [==============================] - 9s 4ms/step - loss: 0.5908 - accuracy: 0.8414\n",
            "Epoch 2/5\n",
            "1875/1875 [==============================] - 6s 3ms/step - loss: 0.3629 - accuracy: 0.8890\n",
            "Epoch 3/5\n",
            "1875/1875 [==============================] - 5s 3ms/step - loss: 0.3300 - accuracy: 0.8988\n",
            "Epoch 4/5\n",
            "1875/1875 [==============================] - 3s 2ms/step - loss: 0.3135 - accuracy: 0.9030\n",
            "Epoch 5/5\n",
            "1875/1875 [==============================] - 3s 2ms/step - loss: 0.2948 - accuracy: 0.9099\n"
          ]
        },
        {
          "output_type": "execute_result",
          "data": {
            "text/plain": [
              "<keras.src.callbacks.History at 0x7d6f828cd780>"
            ]
          },
          "metadata": {},
          "execution_count": 6
        }
      ]
    },
    {
      "cell_type": "markdown",
      "source": [
        "#<----------------------------  DAY 2  ------------------------------->"
      ],
      "metadata": {
        "id": "9qUmLmfc9tk5"
      }
    },
    {
      "cell_type": "code",
      "source": [
        "model.evaluate(X_test,y_test)"
      ],
      "metadata": {
        "id": "Gxj7z-gqVgtp",
        "colab": {
          "base_uri": "https://localhost:8080/"
        },
        "outputId": "2676b01e-d5a9-494b-a21c-ea7621336d85"
      },
      "execution_count": null,
      "outputs": [
        {
          "output_type": "stream",
          "name": "stdout",
          "text": [
            "313/313 [==============================] - 0s 1ms/step - loss: 0.2652 - accuracy: 0.9198\n"
          ]
        },
        {
          "output_type": "execute_result",
          "data": {
            "text/plain": [
              "[0.2651771903038025, 0.9197999835014343]"
            ]
          },
          "metadata": {},
          "execution_count": 7
        }
      ]
    },
    {
      "cell_type": "code",
      "source": [
        "y_pred = model.predict(X_test)"
      ],
      "metadata": {
        "id": "aUK6rwRARAP-",
        "colab": {
          "base_uri": "https://localhost:8080/"
        },
        "outputId": "77c85704-41a5-4c3b-ac51-1766cca27328"
      },
      "execution_count": null,
      "outputs": [
        {
          "output_type": "stream",
          "name": "stdout",
          "text": [
            "313/313 [==============================] - 0s 1ms/step\n"
          ]
        }
      ]
    },
    {
      "cell_type": "code",
      "source": [
        "y_pred.shape"
      ],
      "metadata": {
        "colab": {
          "base_uri": "https://localhost:8080/"
        },
        "id": "f6-O9lgvikkI",
        "outputId": "7d2b70c3-9fc0-4a22-a4d9-a8552370b322"
      },
      "execution_count": null,
      "outputs": [
        {
          "output_type": "execute_result",
          "data": {
            "text/plain": [
              "(10000, 10)"
            ]
          },
          "metadata": {},
          "execution_count": 9
        }
      ]
    },
    {
      "cell_type": "code",
      "source": [
        "y_pred[3]"
      ],
      "metadata": {
        "colab": {
          "base_uri": "https://localhost:8080/"
        },
        "id": "56Vs5-mqikgm",
        "outputId": "24e543f4-7808-4dfc-d3b9-7a0b812ac31a"
      },
      "execution_count": null,
      "outputs": [
        {
          "output_type": "execute_result",
          "data": {
            "text/plain": [
              "array([9.9673712e-01, 1.9232101e-04, 5.6663501e-01, 1.1748413e-01,\n",
              "       4.0979865e-03, 2.1443924e-01, 4.0023893e-01, 4.4304207e-01,\n",
              "       1.1858947e-02, 8.2510926e-02], dtype=float32)"
            ]
          },
          "metadata": {},
          "execution_count": 10
        }
      ]
    },
    {
      "cell_type": "code",
      "source": [
        "np.argmax(y_pred[3])"
      ],
      "metadata": {
        "colab": {
          "base_uri": "https://localhost:8080/"
        },
        "id": "dB8vNbyYikeK",
        "outputId": "2eb6461d-36d3-4231-96b8-f8ae4cac7bc7"
      },
      "execution_count": null,
      "outputs": [
        {
          "output_type": "execute_result",
          "data": {
            "text/plain": [
              "0"
            ]
          },
          "metadata": {},
          "execution_count": 11
        }
      ]
    },
    {
      "cell_type": "code",
      "source": [
        "lst=[]\n",
        "for mdl in y_pred:\n",
        "  lst.append(np.argmax(mdl))"
      ],
      "metadata": {
        "id": "5FmcctY3ikbz"
      },
      "execution_count": null,
      "outputs": []
    },
    {
      "cell_type": "code",
      "source": [
        "lst=np.array(lst)"
      ],
      "metadata": {
        "id": "HRHM5xW5ikZK"
      },
      "execution_count": null,
      "outputs": []
    },
    {
      "cell_type": "code",
      "source": [
        "y_test[17],y_pred[17], np.argmax(y_pred[17]),lst[17]"
      ],
      "metadata": {
        "colab": {
          "base_uri": "https://localhost:8080/"
        },
        "id": "PQFbbqSvikWl",
        "outputId": "bf1c7d1a-ee85-4bed-dafe-304951354659"
      },
      "execution_count": null,
      "outputs": [
        {
          "output_type": "execute_result",
          "data": {
            "text/plain": [
              "(7,\n",
              " array([1.8771279e-01, 5.9291380e-03, 6.4298123e-01, 8.4878594e-01,\n",
              "        1.3581597e-03, 1.4403181e-01, 7.1495060e-06, 9.9926710e-01,\n",
              "        2.5070738e-03, 5.4316694e-01], dtype=float32),\n",
              " 7,\n",
              " 7)"
            ]
          },
          "metadata": {},
          "execution_count": 14
        }
      ]
    },
    {
      "cell_type": "code",
      "source": [
        "cm=tf.math.confusion_matrix(y_test,lst)\n",
        "type(cm)"
      ],
      "metadata": {
        "colab": {
          "base_uri": "https://localhost:8080/"
        },
        "id": "E7PRPbHxoOgE",
        "outputId": "52cef1be-ba8b-451c-f013-714ac93cb30f"
      },
      "execution_count": null,
      "outputs": [
        {
          "output_type": "execute_result",
          "data": {
            "text/plain": [
              "tensorflow.python.framework.ops.EagerTensor"
            ]
          },
          "metadata": {},
          "execution_count": 15
        }
      ]
    },
    {
      "cell_type": "code",
      "source": [
        "sns.heatmap(cm,annot=True,fmt='d')"
      ],
      "metadata": {
        "colab": {
          "base_uri": "https://localhost:8080/",
          "height": 447
        },
        "id": "Ero8br1eoOdC",
        "outputId": "425de59d-62bd-4e13-9a21-002d0bfd9ac9"
      },
      "execution_count": null,
      "outputs": [
        {
          "output_type": "execute_result",
          "data": {
            "text/plain": [
              "<Axes: >"
            ]
          },
          "metadata": {},
          "execution_count": 16
        },
        {
          "output_type": "display_data",
          "data": {
            "text/plain": [
              "<Figure size 640x480 with 2 Axes>"
            ],
            "image/png": "[encoded data removed]"
          },
          "metadata": {}
        }
      ]
    },
    {
      "cell_type": "code",
      "source": [
        "plt.imshow(X_test[8], cmap='gray')"
      ],
      "metadata": {
        "colab": {
          "base_uri": "https://localhost:8080/",
          "height": 447
        },
        "id": "X3IE5cqhoOab",
        "outputId": "c1aada6d-46df-49f5-a5cc-a3e70fa5a2a1"
      },
      "execution_count": null,
      "outputs": [
        {
          "output_type": "execute_result",
          "data": {
            "text/plain": [
              "<matplotlib.image.AxesImage at 0x7d6f70d22080>"
            ]
          },
          "metadata": {},
          "execution_count": 17
        },
        {
          "output_type": "display_data",
          "data": {
            "text/plain": [
              "<Figure size 640x480 with 1 Axes>"
            ],
            "image/png": "[encoded data removed]"
          },
          "metadata": {}
        }
      ]
    },
    {
      "cell_type": "code",
      "source": [],
      "metadata": {
        "id": "XuY5FbS39Dr5"
      },
      "execution_count": null,
      "outputs": []
    },
    {
      "cell_type": "code",
      "source": [],
      "metadata": {
        "id": "gr4jcC3X9Df7"
      },
      "execution_count": null,
      "outputs": []
    },
    {
      "cell_type": "markdown",
      "source": [
        "# SIGMOID ACTIVATION FUNCTION  \n"
      ],
      "metadata": {
        "id": "vOBfQkgR8clT"
      }
    },
    {
      "cell_type": "code",
      "source": [
        "def sigmoid(x):\n",
        "  return 1/(1+np.exp(-x))"
      ],
      "metadata": {
        "id": "O5yeNdY-oOX9"
      },
      "execution_count": null,
      "outputs": []
    },
    {
      "cell_type": "code",
      "source": [
        "print(sigmoid(-499))"
      ],
      "metadata": {
        "colab": {
          "base_uri": "https://localhost:8080/"
        },
        "id": "Ibv2pbkV46YM",
        "outputId": "ebb8b0f4-4003-40d8-b959-d8a54609f82d"
      },
      "execution_count": null,
      "outputs": [
        {
          "output_type": "stream",
          "name": "stdout",
          "text": [
            "1.9366606581912876e-217\n"
          ]
        }
      ]
    },
    {
      "cell_type": "code",
      "source": [
        "def log_loss(y_t,y_p):\n",
        "  y_p=[]\n",
        "  return -np.mean(y_t*np.log(y_p) + (1-y_t)* (np.log(1-y_p)))"
      ],
      "metadata": {
        "id": "oB3qdf0mNfZA"
      },
      "execution_count": null,
      "outputs": []
    },
    {
      "cell_type": "code",
      "source": [],
      "metadata": {
        "id": "AoYk2QY8NfCg"
      },
      "execution_count": null,
      "outputs": []
    },
    {
      "cell_type": "code",
      "source": [],
      "metadata": {
        "id": "6n94TGb1NeqR"
      },
      "execution_count": null,
      "outputs": []
    },
    {
      "cell_type": "markdown",
      "source": [
        "# RELU ACTIVATION FUNCTION"
      ],
      "metadata": {
        "id": "t3iSMA8O8wUm"
      }
    },
    {
      "cell_type": "code",
      "source": [
        "def relu(x):\n",
        "  return max(0,x)"
      ],
      "metadata": {
        "id": "gqQosE0V46Ul"
      },
      "execution_count": null,
      "outputs": []
    },
    {
      "cell_type": "code",
      "source": [
        "print(relu(-23))"
      ],
      "metadata": {
        "colab": {
          "base_uri": "https://localhost:8080/"
        },
        "id": "6NNQ3osn46Qj",
        "outputId": "2f4301df-22f5-4874-d1e6-76ece002ef5e"
      },
      "execution_count": null,
      "outputs": [
        {
          "output_type": "stream",
          "name": "stdout",
          "text": [
            "0\n"
          ]
        }
      ]
    },
    {
      "cell_type": "markdown",
      "source": [
        "#ELU ACTIVATION FUNCTION"
      ],
      "metadata": {
        "id": "2MZBD65z81Sz"
      }
    },
    {
      "cell_type": "code",
      "source": [
        "def elu(x):\n",
        "  if x>0:\n",
        "    return x\n",
        "  else:\n",
        "    return (np.exp(x)-1)"
      ],
      "metadata": {
        "id": "vpJAiNNQ46Hh"
      },
      "execution_count": null,
      "outputs": []
    },
    {
      "cell_type": "code",
      "source": [
        "print(elu(-7))"
      ],
      "metadata": {
        "colab": {
          "base_uri": "https://localhost:8080/"
        },
        "id": "9MNWE4Rw64Ee",
        "outputId": "1332aaac-649f-48be-8e6d-c974b262584e"
      },
      "execution_count": null,
      "outputs": [
        {
          "output_type": "stream",
          "name": "stdout",
          "text": [
            "-0.9990881180344455\n"
          ]
        }
      ]
    },
    {
      "cell_type": "markdown",
      "source": [
        "#LEAKYRELU ACTIVATION FUNCTION"
      ],
      "metadata": {
        "id": "Hx9T0WpM85F1"
      }
    },
    {
      "cell_type": "code",
      "source": [
        "def leakyrelu(x):\n",
        "  if x >0:\n",
        "    return x\n",
        "  else:\n",
        "    return (0.01*x)"
      ],
      "metadata": {
        "id": "OHb7vUrQ746J"
      },
      "execution_count": null,
      "outputs": []
    },
    {
      "cell_type": "code",
      "source": [
        "leakyrelu(-2)"
      ],
      "metadata": {
        "colab": {
          "base_uri": "https://localhost:8080/"
        },
        "id": "bwJb2mWN743r",
        "outputId": "374f0b13-11d9-46a5-9f74-2de7325dc468"
      },
      "execution_count": null,
      "outputs": [
        {
          "output_type": "execute_result",
          "data": {
            "text/plain": [
              "-0.02"
            ]
          },
          "metadata": {},
          "execution_count": 26
        }
      ]
    },
    {
      "cell_type": "code",
      "source": [],
      "metadata": {
        "id": "wcX6LlZg741e"
      },
      "execution_count": null,
      "outputs": []
    },
    {
      "cell_type": "markdown",
      "source": [
        "# <-----------------------------------------------------  DAY :- 03  ---------------------------------------------------------->"
      ],
      "metadata": {
        "id": "JrYIWlSHc3fN"
      }
    },
    {
      "cell_type": "code",
      "source": [
        "a=np.array([1,2,3,7])\n",
        "b=np.array([2,3,4,4])\n",
        "\n",
        "total=np.sum(np.abs(a,b))\n"
      ],
      "metadata": {
        "id": "8yQnh40v74zP"
      },
      "execution_count": null,
      "outputs": []
    },
    {
      "cell_type": "code",
      "source": [
        "MSE = total / len(a)"
      ],
      "metadata": {
        "id": "6Jqu-JyX74xO"
      },
      "execution_count": null,
      "outputs": []
    },
    {
      "cell_type": "code",
      "source": [
        "print(\"Mean Sequaed Error is = \",MSE)"
      ],
      "metadata": {
        "id": "zU_wqKEldW-h",
        "colab": {
          "base_uri": "https://localhost:8080/"
        },
        "outputId": "acfae545-0c89-4787-d004-66a682b350b4"
      },
      "execution_count": null,
      "outputs": [
        {
          "output_type": "stream",
          "name": "stdout",
          "text": [
            "Mean Sequaed Error is =  3.25\n"
          ]
        }
      ]
    },
    {
      "cell_type": "code",
      "source": [
        "-np.mean(a* np.log(b)+(1-a)*np.log(1-b))"
      ],
      "metadata": {
        "id": "_MwXkUCAdWzj",
        "colab": {
          "base_uri": "https://localhost:8080/"
        },
        "outputId": "50def90f-4e4f-4814-fb12-61b10ed6787b"
      },
      "execution_count": null,
      "outputs": [
        {
          "output_type": "stream",
          "name": "stderr",
          "text": [
            "<ipython-input-30-01710b7f448e>:1: RuntimeWarning: divide by zero encountered in log\n",
            "  -np.mean(a* np.log(b)+(1-a)*np.log(1-b))\n",
            "<ipython-input-30-01710b7f448e>:1: RuntimeWarning: invalid value encountered in log\n",
            "  -np.mean(a* np.log(b)+(1-a)*np.log(1-b))\n",
            "<ipython-input-30-01710b7f448e>:1: RuntimeWarning: invalid value encountered in multiply\n",
            "  -np.mean(a* np.log(b)+(1-a)*np.log(1-b))\n"
          ]
        },
        {
          "output_type": "execute_result",
          "data": {
            "text/plain": [
              "nan"
            ]
          },
          "metadata": {},
          "execution_count": 30
        }
      ]
    },
    {
      "cell_type": "code",
      "source": [
        "def fun(a,b):\n",
        "  e=1e-10\n",
        "  y_n=[max(i,e) for i in b]\n",
        "  y_n=[max(i,1-e) for i in b]\n",
        "  y_n=np.array(y_n)\n",
        "  return -np.mean(a* np.log(b)+(1-a)*np.log(1-b))"
      ],
      "metadata": {
        "id": "AMuC9ye30iVc"
      },
      "execution_count": null,
      "outputs": []
    },
    {
      "cell_type": "code",
      "source": [
        "fun(a,b)"
      ],
      "metadata": {
        "colab": {
          "base_uri": "https://localhost:8080/"
        },
        "id": "w75zYsRT_pqB",
        "outputId": "6e4d3f9d-eccd-4bd3-8f0d-381253862003"
      },
      "execution_count": null,
      "outputs": [
        {
          "output_type": "stream",
          "name": "stderr",
          "text": [
            "<ipython-input-31-babd854cdabd>:6: RuntimeWarning: divide by zero encountered in log\n",
            "  return -np.mean(a* np.log(b)+(1-a)*np.log(1-b))\n",
            "<ipython-input-31-babd854cdabd>:6: RuntimeWarning: invalid value encountered in log\n",
            "  return -np.mean(a* np.log(b)+(1-a)*np.log(1-b))\n",
            "<ipython-input-31-babd854cdabd>:6: RuntimeWarning: invalid value encountered in multiply\n",
            "  return -np.mean(a* np.log(b)+(1-a)*np.log(1-b))\n"
          ]
        },
        {
          "output_type": "execute_result",
          "data": {
            "text/plain": [
              "nan"
            ]
          },
          "metadata": {},
          "execution_count": 32
        }
      ]
    },
    {
      "cell_type": "markdown",
      "source": [
        "# <----------------///////////  DAY - 04  ////////-------------------->"
      ],
      "metadata": {
        "id": "WrgW9-LPHCAA"
      }
    },
    {
      "cell_type": "code",
      "source": [],
      "metadata": {
        "id": "8jgUQfpvRzrS"
      },
      "execution_count": null,
      "outputs": []
    },
    {
      "cell_type": "markdown",
      "source": [
        "# Gradient Descent Implement"
      ],
      "metadata": {
        "id": "PYMdYKjKKsUi"
      }
    },
    {
      "cell_type": "code",
      "source": [
        "def gradient_descent(age,aff,y_t,epoches,loss_thr):\n",
        "  w1=1\n",
        "  w2=2\n",
        "  b=0\n",
        "  n=len(age)\n",
        "  LR=0.5\n",
        "\n",
        "  for i in range(epoches):\n",
        "    W_S= w1*age + w2 * aff + b\n",
        "    y_p= sigmoid(W_S)\n",
        "    loss= log_loss(y_t,y_p)\n",
        "\n",
        "    w_age= (1/n)*np.dot(age,(y_t-y_p))\n",
        "    w_aff= (1/n)*np.dot(aff,(y_t-y_p))\n",
        "    bais= np.dot(aff,(y_t-y_p))\n",
        "\n",
        "    w1=w1-LR*w_age\n",
        "    w2=w2-LR*w_aff\n",
        "    b=b - LR * bais\n",
        "    print(\"Epochs\",i,)\n",
        "  return w1,w2,bais"
      ],
      "metadata": {
        "id": "UT2-kaY5_piY"
      },
      "execution_count": null,
      "outputs": []
    }
  ]
}